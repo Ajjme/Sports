{
  "nbformat": 4,
  "nbformat_minor": 0,
  "metadata": {
    "colab": {
      "provenance": [],
      "authorship_tag": "ABX9TyPEXTWKWi8A3xbCVrJ3Yg+V",
      "include_colab_link": true
    },
    "kernelspec": {
      "name": "python3",
      "display_name": "Python 3"
    },
    "language_info": {
      "name": "python"
    }
  },
  "cells": [
    {
      "cell_type": "markdown",
      "metadata": {
        "id": "view-in-github",
        "colab_type": "text"
      },
      "source": [
        "<a href=\"https://colab.research.google.com/github/Ajjme/Sports/blob/main/March_Madness.ipynb\" target=\"_parent\"><img src=\"https://colab.research.google.com/assets/colab-badge.svg\" alt=\"Open In Colab\"/></a>"
      ]
    },
    {
      "cell_type": "markdown",
      "source": [
        "Hear are the rules to a march madness game. 1\n",
        ". Pick 10 teams\n",
        "2. Your teams earn points when they win.\n",
        "3. The points earned are the product of a) the team's seed (1 through 16) and b) the tournament round number.\n",
        "4. Teams will earn 5 bonus points for each of the following - making it to the Final Four, making it to the Final, and winning the Championship\n",
        "5. Each entry will designate one team as its \"Captain\". This team will earn DOUBLE the points in the first three rounds (i.e. before the bonus points noted above kick in). What is the expected value of each team based on seed"
      ],
      "metadata": {
        "id": "89KugH8XDfZz"
      }
    },
    {
      "cell_type": "code",
      "source": [
        "import numpy as np\n",
        "import pandas as pd\n",
        "\n",
        "# Define seed numbers\n",
        "seeds = np.arange(1, 17)\n",
        "\n",
        "# Historical probabilities of advancing to each round (based on past tournament data)\n",
        "probabilities = {\n",
        "    \"R32\":  [0.99, 0.94, 0.85, 0.79, 0.65, 0.63, 0.60, 0.50, 0.50, 0.40, 0.38, 0.36, 0.20, 0.15, 0.10, 0.05],\n",
        "    \"S16\":  [0.85, 0.72, 0.63, 0.57, 0.42, 0.40, 0.35, 0.25, 0.22, 0.20, 0.17, 0.15, 0.08, 0.05, 0.02, 0.01],\n",
        "    \"E8\":   [0.70, 0.55, 0.45, 0.35, 0.25, 0.22, 0.20, 0.12, 0.10, 0.08, 0.06, 0.05, 0.02, 0.01, 0.005, 0.002],\n",
        "    \"F4\":   [0.50, 0.40, 0.25, 0.20, 0.15, 0.10, 0.08, 0.05, 0.04, 0.03, 0.02, 0.01, 0.005, 0.002, 0.001, 0.0005],\n",
        "    \"Final\": [0.35, 0.25, 0.15, 0.10, 0.05, 0.04, 0.03, 0.02, 0.015, 0.01, 0.005, 0.002, 0.001, 0.0005, 0.0002, 0.0001],\n",
        "    \"Champ\": [0.25, 0.15, 0.10, 0.05, 0.02, 0.01, 0.01, 0.005, 0.005, 0.002, 0.002, 0.001, 0.0005, 0.0002, 0.0001, 0.00005],\n",
        "}\n",
        "\n",
        "# Bonus points\n",
        "bonus_points = {\"F4\": 5, \"Final\": 5, \"Champ\": 5}\n",
        "\n",
        "# Calculate expected value for each seed\n",
        "expected_values = []\n",
        "for i, seed in enumerate(seeds):\n",
        "    ev = (probabilities[\"R32\"][i] * (seed * 1) +\n",
        "          probabilities[\"S16\"][i] * (seed * 2) +\n",
        "          probabilities[\"E8\"][i] * (seed * 3) +\n",
        "          probabilities[\"F4\"][i] * (seed * 4) +\n",
        "          probabilities[\"Final\"][i] * (seed * 5) +\n",
        "          probabilities[\"Champ\"][i] * (seed * 6) +\n",
        "          probabilities[\"F4\"][i] * bonus_points[\"F4\"] +\n",
        "          probabilities[\"Final\"][i] * bonus_points[\"Final\"] +\n",
        "          probabilities[\"Champ\"][i] * bonus_points[\"Champ\"])\n",
        "    expected_values.append(ev)\n",
        "\n",
        "# Combine results into a dictionary\n",
        "seed_ev_dict = dict(zip(seeds, expected_values))\n",
        "df = pd.DataFrame(list(seed_ev_dict.items()), columns=[\"Seed\", \"Expected Value\"])\n",
        "\n",
        "# Print the table\n",
        "print(df)"
      ],
      "metadata": {
        "id": "4ZjF0FX8DPQK",
        "colab": {
          "base_uri": "https://localhost:8080/"
        },
        "outputId": "5f71203e-d79c-4d45-85b0-f926b39c85b5"
      },
      "execution_count": 4,
      "outputs": [
        {
          "output_type": "stream",
          "name": "stdout",
          "text": [
            "    Seed  Expected Value\n",
            "0      1        15.54000\n",
            "1      2        19.56000\n",
            "2      3        19.93000\n",
            "3      4        20.07000\n",
            "4      5        17.15000\n",
            "5      6        17.25000\n",
            "6      7        17.61000\n",
            "7      8        13.89500\n",
            "8      9        13.84500\n",
            "9     10        12.43000\n",
            "10    11        11.32200\n",
            "11    12        10.45700\n",
            "12    13         5.85650\n",
            "13    14         4.09730\n",
            "14    15         2.41550\n",
            "15    16         1.26405\n"
          ]
        }
      ]
    },
    {
      "cell_type": "markdown",
      "source": [
        "now how bad would the probability of the 3rd and 4 seeds winning would result in choosing another group"
      ],
      "metadata": {
        "id": "W1ea56k2DTgf"
      }
    },
    {
      "cell_type": "code",
      "source": [
        "import numpy as np\n",
        "\n",
        "# Tournament structure: each round has multipliers\n",
        "round_multipliers = [1, 2, 3, 4, 5, 6]  # Rounds 1 to 6\n",
        "\n",
        "# Historical probabilities of each seed advancing per round\n",
        "probabilities = {\n",
        "    1:  [0.99, 0.85, 0.70, 0.50, 0.35, 0.25],  # Seed 1\n",
        "    2:  [0.94, 0.75, 0.55, 0.40, 0.25, 0.18],  # Seed 2\n",
        "    3:  [0.85, 0.65, 0.45, 0.25, 0.15, 0.10],  # Seed 3\n",
        "    4:  [0.80, 0.55, 0.35, 0.20, 0.10, 0.07],  # Seed 4\n",
        "    5:  [0.75, 0.50, 0.30, 0.15, 0.07, 0.05],  # Seed 5\n",
        "    6:  [0.70, 0.45, 0.25, 0.12, 0.06, 0.04],  # Seed 6\n",
        "    7:  [0.65, 0.40, 0.20, 0.10, 0.05, 0.03],  # Seed 7\n",
        "    8:  [0.60, 0.30, 0.15, 0.08, 0.04, 0.02],  # Seed 8\n",
        "    9:  [0.55, 0.25, 0.12, 0.06, 0.03, 0.01],  # Seed 9\n",
        "    10: [0.50, 0.20, 0.10, 0.05, 0.02, 0.01],  # Seed 10\n",
        "    11: [0.45, 0.18, 0.09, 0.04, 0.02, 0.01],  # Seed 11\n",
        "    12: [0.40, 0.15, 0.08, 0.03, 0.01, 0.01],  # Seed 12\n",
        "    13: [0.30, 0.12, 0.06, 0.02, 0.01, 0.00],  # Seed 13\n",
        "    14: [0.25, 0.10, 0.05, 0.02, 0.00, 0.00],  # Seed 14\n",
        "    15: [0.20, 0.08, 0.04, 0.01, 0.00, 0.00],  # Seed 15\n",
        "    16: [0.10, 0.03, 0.01, 0.00, 0.00, 0.00],  # Seed 16\n",
        "}\n",
        "\n",
        "# Number of simulations\n",
        "num_simulations = 10000\n",
        "\n",
        "def simulate_tournament():\n",
        "    \"\"\"Simulates a single tournament and returns expected points for each seed.\"\"\"\n",
        "    seed_points = {seed: 0 for seed in range(1, 17)}\n",
        "\n",
        "    for seed in range(1, 17):\n",
        "        total_points = 0\n",
        "\n",
        "        # Simulate progression through rounds\n",
        "        progress = 1  # Starts at round 1\n",
        "        while progress <= 6 and np.random.rand() < probabilities[seed][progress - 1]:\n",
        "            total_points += seed * round_multipliers[progress - 1]\n",
        "            progress += 1\n",
        "\n",
        "        # Apply bonus points for Final Four, Final, and Championship wins\n",
        "        if progress > 4: total_points += 5  # Final Four\n",
        "        if progress > 5: total_points += 5  # Final\n",
        "        if progress > 6: total_points += 5  # Championship\n",
        "\n",
        "        seed_points[seed] = total_points\n",
        "\n",
        "    return seed_points\n",
        "\n",
        "# Monte Carlo simulation\n",
        "expected_values = {seed: 0 for seed in range(1, 17)}\n",
        "\n",
        "for _ in range(num_simulations):\n",
        "    sim_results = simulate_tournament()\n",
        "    for seed, points in sim_results.items():\n",
        "        expected_values[seed] += points\n",
        "\n",
        "# Average over simulations\n",
        "for seed in expected_values:\n",
        "    expected_values[seed] /= num_simulations\n",
        "\n",
        "# Sort by highest expected value\n",
        "sorted_expected_values = sorted(expected_values.items(), key=lambda x: x[1], reverse=True)\n",
        "\n",
        "# Display results\n",
        "print(\"Expected Value of Each Seed:\")\n",
        "for seed, value in sorted_expected_values:\n",
        "    print(f\"Seed {seed}: {value:.2f}\")\n",
        "\n",
        "# Adjust probabilities dynamically to push 1st/2nd seed above 3rd/4th\n",
        "def adjust_probabilities():\n",
        "    \"\"\"Adjusts probabilities until the 3rd and 4th seed lose their advantage.\"\"\"\n",
        "    global probabilities\n",
        "    step = 0.01  # Small adjustments\n",
        "    for _ in range(1000):  # Max iterations to prevent infinite loops\n",
        "        # Increase 1st/2nd seed survival rates\n",
        "        probabilities[1] = [min(p + step, 1.0) for p in probabilities[1]]\n",
        "        probabilities[2] = [min(p + step, 1.0) for p in probabilities[2]]\n",
        "\n",
        "        # Decrease 3rd/4th seed survival rates\n",
        "        probabilities[3] = [max(p - step, 0.0) for p in probabilities[3]]\n",
        "        probabilities[4] = [max(p - step, 0.0) for p in probabilities[4]]\n",
        "\n",
        "        # Re-run simulation to check rankings\n",
        "        new_expected_values = {seed: 0 for seed in range(1, 17)}\n",
        "        for _ in range(5000):  # Faster re-evaluation\n",
        "            sim_results = simulate_tournament()\n",
        "            for seed, points in sim_results.items():\n",
        "                new_expected_values[seed] += points\n",
        "\n",
        "        # Average out\n",
        "        for seed in new_expected_values:\n",
        "            new_expected_values[seed] /= 5000\n",
        "\n",
        "        # Check if 1st or 2nd seed now has highest expected value\n",
        "        top_seed = max(new_expected_values, key=new_expected_values.get)\n",
        "        if top_seed in [1, 2]:\n",
        "            print(\"\\nAdjusted probabilities successfully!\")\n",
        "            print(\"New Expected Values:\")\n",
        "            for seed, value in sorted(new_expected_values.items(), key=lambda x: x[1], reverse=True):\n",
        "                print(f\"Seed {seed}: {value:.2f}\")\n",
        "            return probabilities\n",
        "\n",
        "    print(\"Adjustment failed after max iterations.\")\n",
        "\n",
        "# Run probability adjustment\n",
        "adjust_probabilities()\n"
      ],
      "metadata": {
        "id": "TiHYCwy3DPSy"
      },
      "execution_count": null,
      "outputs": []
    }
  ]
}